{
  "cells": [
    {
      "attachments": {},
      "cell_type": "markdown",
      "metadata": {
        "id": "pfWl-MnxEE2o"
      },
      "source": [
        "### Library Imports"
      ]
    },
    {
      "cell_type": "code",
      "execution_count": null,
      "metadata": {
        "id": "NkXOdEzR3ArM"
      },
      "outputs": [],
      "source": [
        "import numpy as np\n",
        "import random\n",
        "import cv2\n",
        "from imutils import paths\n",
        "import os\n",
        "\n",
        "# SkLearn Libraries\n",
        "from sklearn.model_selection import train_test_split\n",
        "from sklearn.preprocessing import LabelBinarizer\n",
        "from sklearn.utils import shuffle\n",
        "from sklearn.metrics import accuracy_score\n",
        "\n",
        "# TensorFlow Libraries\n",
        "import tensorflow as tf\n",
        "from tensorflow.keras.models import Sequential\n",
        "from tensorflow.keras.layers import Flatten\n",
        "from tensorflow.keras.layers import Dense\n",
        "from tensorflow.keras import backend as K\n"
      ]
    },
    {
      "attachments": {},
      "cell_type": "markdown",
      "metadata": {
        "id": "AsFb_S4HEILI"
      },
      "source": [
        "### Data Loading"
      ]
    },
    {
      "cell_type": "code",
      "execution_count": null,
      "metadata": {
        "id": "HI8YbyNv92h4"
      },
      "outputs": [],
      "source": [
        "def load_mnist_data(dataroot):\n",
        "\n",
        "    X = list()\n",
        "    y = list()\n",
        "\n",
        "    for label in os.listdir(dataroot):\n",
        "      label_dir_path = dataroot + \"/\"+label\n",
        "\n",
        "      for imgFile in os.listdir(label_dir_path):\n",
        "        img_file_path = label_dir_path + \"/\" + imgFile\n",
        "        image_gray = cv2.imread(img_file_path, cv2.IMREAD_GRAYSCALE)\n",
        "\n",
        "        image = np.array(image_gray).flatten()\n",
        "\n",
        "        X.append(image/255)\n",
        "        y.append(label)\n",
        "\n",
        "    return X, y\n"
      ]
    },
    {
      "attachments": {},
      "cell_type": "markdown",
      "metadata": {
        "id": "u8hLObK6ELJA"
      },
      "source": [
        "### Client Node Creation"
      ]
    },
    {
      "cell_type": "code",
      "execution_count": null,
      "metadata": {
        "id": "Hzhq6MtX96U-"
      },
      "outputs": [],
      "source": [
        "def create_client_nodes(X, \n",
        "                        y, \n",
        "                        num_clients=10, \n",
        "                        prefix='CLIENT_'):\n",
        "\n",
        "    #create a list of client names\n",
        "    client_names = []\n",
        "    for i in range(num_clients):\n",
        "      client_names.append(prefix + str(i))\n",
        "\n",
        "    #randomize the data\n",
        "    data = list(zip(X, y))\n",
        "    random.shuffle(data)\n",
        "\n",
        "    #shard data and place at each client\n",
        "    per_client = len(data)//num_clients\n",
        "    client_chunks = []\n",
        "    start = 0\n",
        "    end = 0\n",
        "\n",
        "    for i in range(num_clients):\n",
        "      end = start + per_client\n",
        "      if end > len(data):\n",
        "        client_chunks.append(data[start:])\n",
        "      else:\n",
        "        client_chunks.append(data[start:end])\n",
        "        start = end \n",
        "\n",
        "    return {client_names[i] : client_chunks[i] for i in range(len(client_names))} \n"
      ]
    },
    {
      "cell_type": "code",
      "execution_count": null,
      "metadata": {
        "id": "jUPsfzQk99lx"
      },
      "outputs": [],
      "source": [
        "def collapse_chunk(chunk, batch_size=32):\n",
        "\n",
        "    X, y = zip(*chunk)\n",
        "    dataset = tf.data.Dataset.from_tensor_slices((list(X), list(y)))\n",
        "    return dataset.shuffle(len(y)).batch(batch_size)\n"
      ]
    },
    {
      "attachments": {},
      "cell_type": "markdown",
      "metadata": {
        "id": "Lh1_85adEQIe"
      },
      "source": [
        "### Classification Model"
      ]
    },
    {
      "cell_type": "code",
      "execution_count": null,
      "metadata": {
        "id": "0eR8o_rwBpkS"
      },
      "outputs": [],
      "source": [
        "def MNIST_DeepLearning_Model(hidden_layer_sizes = [200, 200, 200]):\n",
        "  input_dim = 784\n",
        "  num_classes = 10\n",
        "\n",
        "  model = Sequential()\n",
        "\n",
        "  model.add(Dense(200, input_shape=(input_dim,)))\n",
        "  model.add(Activation(\"relu\"))\n",
        "\n",
        "  for hidden in hidden_layer_sizes:\n",
        "    model.add(Dense(hidden))\n",
        "    model.add(Activation(\"relu\"))\n",
        "\n",
        "  model.add(Dense(num_classes))\n",
        "  model.add(Activation(\"softmax\"))\n",
        "  \n",
        "  return model\n"
      ]
    },
    {
      "attachments": {},
      "cell_type": "markdown",
      "metadata": {
        "id": "6Hx-sZI4ETZ9"
      },
      "source": [
        "### Weight Scaling"
      ]
    },
    {
      "cell_type": "code",
      "execution_count": null,
      "metadata": {
        "id": "XEQIF410BtFY"
      },
      "outputs": [],
      "source": [
        "def scale_weights(all_clients,\n",
        "                  this_client,\n",
        "                  weights):\n",
        "  \n",
        "  # First calculate scaling factor\n",
        "\n",
        "  # Obtain batch size\n",
        "  batch_size = list(all_clients[this_client])[0][0].shape[0]\n",
        "\n",
        "  # Compute global data size\n",
        "  sizes = []\n",
        "  for client in all_clients.keys():\n",
        "    sizes.append(tf.data.experimental.cardinality(all_clients[client]).numpy())\n",
        "  global_data_size = np.sum(sizes)*batch_size\n",
        "\n",
        "  # Compute data size in this client \n",
        "  this_client_size = tf.data.experimental.cardinality(all_clients[this_client]).numpy()*batch_size\n",
        "\n",
        "  # Scaling factor is the ratio of the two \n",
        "  scaling_factor = this_client_size / global_data_size\n",
        "\n",
        "  scaled_weights = []\n",
        "  for weight in weights:\n",
        "    scaled_weights.append(scaling_factor * weight)\n",
        "\n",
        "  return scaled_weights\n"
      ]
    },
    {
      "attachments": {},
      "cell_type": "markdown",
      "metadata": {
        "id": "wTG9IafvEX55"
      },
      "source": [
        "### Global Model"
      ]
    },
    {
      "cell_type": "code",
      "execution_count": null,
      "metadata": {
        "id": "EKkkNV8fBwFO"
      },
      "outputs": [],
      "source": [
        "global_model = MNIST_DeepLearning_Model(hidden_layer_sizes = [200, 200, 200])\n",
        "global_model.summary()\n"
      ]
    },
    {
      "cell_type": "code",
      "execution_count": null,
      "metadata": {
        "id": "uNu3n07XByN5"
      },
      "outputs": [],
      "source": [
        "dataroot = './trainingSet'\n",
        "X, y = load_mnist_data(dataroot)\n",
        "\n",
        "y_binarized = LabelBinarizer().fit_transform(y)\n",
        "\n",
        "X_train, X_test, y_train, y_test = train_test_split(X, \n",
        "                                      y_binarized, \n",
        "test_size=0.2, \n",
        "random_state=123)\n"
      ]
    },
    {
      "attachments": {},
      "cell_type": "markdown",
      "metadata": {
        "id": "Ev7Zu7OYEf5y"
      },
      "source": [
        "### Client Data Distribtion"
      ]
    },
    {
      "cell_type": "code",
      "execution_count": null,
      "metadata": {
        "id": "8OpiVn1wByVs"
      },
      "outputs": [],
      "source": [
        "clients = create_client_nodes(X_train, y_train, num_clients=10)\n",
        "clients_data = {}\n",
        "for client_name in clients.keys():\n",
        "    clients_data[client_name] = collapse_chunk(clients[client_name])\n",
        "    \n",
        "#process and batch the test set  \n",
        "test_batched = tf.data.Dataset.from_tensor_slices((X_test, y_test)).batch(len(y_test))\n"
      ]
    },
    {
      "cell_type": "code",
      "execution_count": null,
      "metadata": {
        "id": "-4H1fuLaCUef"
      },
      "outputs": [],
      "source": [
        "learn_rate = 0.01 \n",
        "num_rounds = 40\n",
        "loss='categorical_crossentropy'\n",
        "metrics = ['accuracy']\n"
      ]
    },
    {
      "attachments": {},
      "cell_type": "markdown",
      "metadata": {
        "id": "eAtFixiFEmQs"
      },
      "source": [
        "### Federated Learning"
      ]
    },
    {
      "cell_type": "code",
      "execution_count": null,
      "metadata": {
        "id": "P5hS5zerCVoI"
      },
      "outputs": [],
      "source": [
        "for round in range(num_rounds):\n",
        "            \n",
        "    # Get the weights of the global model\n",
        "    global_weights = global_model.get_weights()\n",
        "    \n",
        "\n",
        "    scaled_local_weights = []\n",
        "\n",
        "    # Shuffle the clients\n",
        "    # This will remove any inherent bias\n",
        "    client_names= list(clients_data.keys())\n",
        "    random.shuffle(client_names)\n",
        "    \n",
        "    # Create initial local models \n",
        "    for client in client_names:\n",
        "\n",
        "        # Create the model\n",
        "        local_client_model = MNIST_DeepLearning_Model(hidden_layer_sizes = [200])\n",
        "\n",
        "        # Compile the model\n",
        "        local_client_model.compile(loss=loss, \n",
        "                                   optimizer=tf.keras.optimizers.Adam(learning_rate=0.01), \n",
        "                                   metrics=metrics)\n",
        "        \n",
        "        # The model will have random weights\n",
        "        # We need to reset it to the weights of the current global model\n",
        "        local_client_model.set_weights(global_weights)\n",
        "        \n",
        "        # Train local model \n",
        "        local_client_model.fit(clients_data[client], \n",
        "                               epochs=1,\n",
        "                               verbose = 0)\n",
        "        \n",
        "        # Scale model weights \n",
        "        # Based on this client model's local weights\n",
        "        scaled_weights = scale_weights(clients_data, client, local_client_model.get_weights())\n",
        "\n",
        "        # Record the value\n",
        "        scaled_local_weights.append(scaled_weights)\n",
        "        \n",
        "        # Memory management\n",
        "        K.clear_session()\n",
        "        \n",
        "    # Communication round has ended\n",
        "    # Need to compute the average gradients from all local models \n",
        "    average_weights = []\n",
        "    for gradients in zip(*scaled_local_weights):\n",
        "        # Calclate mean per-layer weights\n",
        "        layer_mean = tf.math.reduce_sum(gradients, axis=0)\n",
        "\n",
        "        # This becomes new weight for that layer\n",
        "        average_weights.append(layer_mean)\n",
        "\n",
        "    # Update global model with newly compted gradients\n",
        "    global_model.set_weights(average_weights)\n",
        "\n",
        "    # Evaluate performance of model at end of round\n",
        "    losses = []\n",
        "    accuracies = []\n",
        "    for(X_test, Y_test) in test_batched:\n",
        "        # Use model for inference\n",
        "        Y_pred = global_model.predict(X_test)\n",
        "\n",
        "        # Calculate loss based on actual and predicted value\n",
        "        loss_fn = tf.keras.losses.CategoricalCrossentropy(from_logits=True)\n",
        "        loss_value = loss_fn(Y_test, Y_pred)\n",
        "        losses.append(loss_value)\n",
        "\n",
        "        # Calculate accuracy based on actual and predicted value\n",
        "        accuracy_value = accuracy_score(tf.argmax(Y_pred, axis=1), \n",
        "                                       tf.argmax(Y_test, axis=1))\n",
        "        accuracies.append(accuracy_value)\n",
        "\n",
        "    # Print Information\n",
        "    print(\"ROUND: {} ---------- GLOBAL ACCURACY: {:.2%}\".format(round, accuracy_value))\n"
      ]
    },
    {
      "attachments": {},
      "cell_type": "markdown",
      "metadata": {
        "id": "kZoDilOhEpyw"
      },
      "source": [
        "### Visualizing Loss and Accracy Trends"
      ]
    },
    {
      "cell_type": "code",
      "execution_count": null,
      "metadata": {
        "id": "KjU9zL6OCcrC"
      },
      "outputs": [],
      "source": [
        "import matplotlib.pyplot as plt \n",
        "plt.plot(range(num_rounds), losses)\n",
        "plt.xlabel(\"Communication Rounds\")\n",
        "plt.ylabel(\"Loss\")\n"
      ]
    },
    {
      "cell_type": "code",
      "execution_count": null,
      "metadata": {
        "id": "Yqo6DWNBCflj"
      },
      "outputs": [],
      "source": [
        "import matplotlib.pyplot as plt \n",
        "plt.plot(range(num_rounds), accuracies)\n",
        "plt.xlabel(\"Communication Rounds\")\n",
        "plt.ylabel(\"Accuracy\")\n"
      ]
    },
    {
      "attachments": {},
      "cell_type": "markdown",
      "metadata": {
        "id": "Zd281dItEto3"
      },
      "source": [
        "### Privacy Utility Tradeoff: No Privacy"
      ]
    },
    {
      "cell_type": "code",
      "execution_count": null,
      "metadata": {
        "id": "7wiyZ2jeCkHl"
      },
      "outputs": [],
      "source": [
        "# Initialize global model\n",
        "global_model = MNIST_DeepLearning_Model(hidden_layer_sizes = [200, 200, 200])\n",
        "global_model.compile(loss=loss, \n",
        "                     optimizer=tf.keras.optimizers.Adam(learning_rate=0.01), \n",
        "                     metrics=metrics)\n",
        "\n",
        "# Create dataset from entire data\n",
        "full_dataset = tf.data.Dataset.from_tensor_slices((X_train, y_train))\\\n",
        "                              .shuffle(len(y_train))\\\n",
        "                              .batch(32)\n",
        "\n",
        "# Fit the model\n",
        "global_model.fit(full_dataset, epochs = 10)\n"
      ]
    },
    {
      "attachments": {},
      "cell_type": "markdown",
      "metadata": {
        "id": "tWJPFQCNE1nX"
      },
      "source": [
        "### Privacy Utility Tradeoff: Full Privacy"
      ]
    },
    {
      "cell_type": "code",
      "execution_count": null,
      "metadata": {
        "id": "x9oQjJloCnl0"
      },
      "outputs": [],
      "source": [
        "# Initialize local client \n",
        "local_client_model = MNIST_DeepLearning_Model(hidden_layer_sizes = [200, 200, 200])\n",
        "local_client_model.compile(loss=loss, \n",
        "                     optimizer=tf.keras.optimizers.Adam(learning_rate=0.01), \n",
        "                     metrics=metrics)\n",
        "\n",
        "# Train on only one client data\n",
        "local_client_model.fit(clients_data['CLIENT_8'], \n",
        "                               epochs=10)\n"
      ]
    }
  ],
  "metadata": {
    "colab": {
      "provenance": []
    },
    "kernelspec": {
      "display_name": "Python 3",
      "name": "python3"
    },
    "language_info": {
      "name": "python",
      "version": "3.8.10"
    }
  },
  "nbformat": 4,
  "nbformat_minor": 0
}
